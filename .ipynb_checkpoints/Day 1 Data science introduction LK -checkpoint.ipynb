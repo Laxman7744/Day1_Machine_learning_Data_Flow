{
 "cells": [
  {
   "cell_type": "markdown",
   "id": "8f73519c-add7-4248-a6ab-2ed452390ef0",
   "metadata": {},
   "source": [
    "## Data Science"
   ]
  },
  {
   "cell_type": "raw",
   "id": "36e7f5b6-b099-409f-bce0-5728dddc0473",
   "metadata": {},
   "source": [
    " it is a process of extracting insightes from data using scientific method"
   ]
  },
  {
   "cell_type": "markdown",
   "id": "af3c8b87-172a-4462-a98c-a96dc9fbb2a3",
   "metadata": {},
   "source": [
    "# Scientific Methods"
   ]
  },
  {
   "cell_type": "raw",
   "id": "e01b8605-f520-4949-a11d-87d2784d4d3d",
   "metadata": {},
   "source": [
    "Scientific Method\n",
    "    1. Machine learning \n",
    "    2. Deep learning\n",
    "    3. NLP(natural language processing)\n",
    "    4. statistics\n",
    "    5. Visualization \n"
   ]
  },
  {
   "cell_type": "markdown",
   "id": "1717ab86-a5cd-4775-ba50-f4c19bd5d71c",
   "metadata": {},
   "source": [
    "# Data Type"
   ]
  },
  {
   "cell_type": "code",
   "execution_count": null,
   "id": "17fb6f61-9193-48af-90ef-963c8ff54845",
   "metadata": {},
   "outputs": [],
   "source": [
    "1.Structured>>> CSV,XLSX\n",
    "2.Unstructured >>> Image,Videos,Audio,Text\n",
    "3.Semi-Structure >> JSON,HTML"
   ]
  },
  {
   "cell_type": "markdown",
   "id": "d72c49f6-775c-45ae-adb7-94a5409131a7",
   "metadata": {},
   "source": [
    "## Real World Applications"
   ]
  },
  {
   "cell_type": "code",
   "execution_count": null,
   "id": "f7aa0cf0-e680-4cce-a37b-f5536a74473f",
   "metadata": {},
   "outputs": [],
   "source": [
    "1. ChatBot\n",
    "2.Face Recognozation\n",
    "3.Digitization of Documents:\n",
    "   1.Google vision\n",
    "   2.Amazon Textract\n",
    "   3.Pytesseract\n",
    "4.House Price Prediction\n",
    "5.Fraud Detction\n",
    "6.Medical(Cancer Detction,Tumor Detction ,Disease Diagnosis)\n",
    "7.Anomoly Detction (Fraud Transactions)\n",
    "8.Loan Disbural System\n",
    "9.Speech Recognization \n",
    "10.Spam Filtering\n",
    "11.Sentiment Analysis\n",
    "12.Reccomandation system\n",
    "13.Self Driving Car\n",
    "14.Humenoides\n",
    "15.Google Map"
   ]
  },
  {
   "cell_type": "markdown",
   "id": "6dc78478-fc55-4773-9426-52b1891096c0",
   "metadata": {},
   "source": [
    "# Types of Machine Learning"
   ]
  },
  {
   "cell_type": "code",
   "execution_count": null,
   "id": "b0accdcd-316f-498c-bdfa-f55ed9741dff",
   "metadata": {},
   "outputs": [],
   "source": [
    "1.Supervised Machine Learning\n",
    "2.Unsupervised Machine Learning\n",
    "3.Semi-supervised Machine Learning\n",
    "4.Reinforcement Machine Leearning\n"
   ]
  },
  {
   "cell_type": "markdown",
   "id": "e4cbc24b-2ac1-44b3-917a-d6321e16baa5",
   "metadata": {},
   "source": [
    "### Car Insurence Fraud \n",
    "         Car_Type    Driverage     DriverIncome      AreaPin    Reported     Hosspitalised    Gender    InjuryType    Agent   CLabel      Label\n",
    "1.                                                                                                                                 0        Fraud\n",
    "2.                                                                                                                                 2        Non-Fraud\n",
    "3.                                                                                                                                 4        Non-Fraud\n",
    "4.                                                                                                                                 2          Non-Fraud      "
   ]
  },
  {
   "cell_type": "markdown",
   "id": "7c1e04b3-4ce2-4c88-b1ec-5a51f50ab437",
   "metadata": {},
   "source": [
    "# Supervised Machine Learning"
   ]
  },
  {
   "cell_type": "raw",
   "id": "c492d82e-4f8a-4c8c-87dc-c15b5bdc9ce5",
   "metadata": {},
   "source": [
    "## Supervised Machine Learning:----\n",
    "   If the data is labeled,we call it as supervised machine learning\n",
    "          In the labled data we have\n",
    "             1.Independent varible(X,Input Variable,Features,Parameters)\n",
    "             2.-Dependent Variable (Y,Output Variable,Target Variable)\n",
    "Supervise Machine Learning Tasks:----\n",
    "  1.Classification:-----\n",
    "        1.The Target has categorical data\n",
    "        2.If the target variable has two categorical it will be called binary classification: \n",
    "             (Loan Approved/Declined,1/0 ,True/False , Yes/No ,Good/Bad ,Spam/no-spam)\n",
    "        3.If the target variable has more than two categories,multiclass classification:\n",
    "             High Risk - Medium Risk - LOw Risk\n",
    "            class1 - Class2 - Class3"
   ]
  },
  {
   "cell_type": "markdown",
   "id": "64c591a0-6df6-42c1-a60a-37f171a07ad8",
   "metadata": {},
   "source": [
    "##  Superwised Machine learning Algorithms\n"
   ]
  },
  {
   "cell_type": "code",
   "execution_count": null,
   "id": "8b6a76ea-7eed-485c-87c5-6c87b57cc14a",
   "metadata": {},
   "outputs": [],
   "source": [
    "### pip install sklearn \n",
    "1.Linear Regresion                 Regression\n",
    "2.logistic Regression              Classification \n",
    "3.k-Nearest Neighbour \n",
    "   3.1 KNNClasifier                Classification     \n",
    "   3.2 KNNrregressor               Regression\n",
    "4.Decision Tree                    Regression and Classification \n",
    "5.Random Forest                    Regression and Classification\n",
    "6.AdaBoost                         Regression and Classification\n",
    "7.Gradient Boost                   Regression and Classification\n",
    "8.XGBoost                          Regression and Classification\n",
    "9.Suport Vector Machine            Regression and Classification\n",
    "10.Naive Bayes Classifier          Regression and Classification"
   ]
  },
  {
   "cell_type": "markdown",
   "id": "6dc667ac-2de4-4e4c-924f-325dfd3c30a9",
   "metadata": {},
   "source": [
    "## Unsupervise Machine Learning"
   ]
  },
  {
   "cell_type": "code",
   "execution_count": null,
   "id": "afdde97a-52ea-446c-8d03-0ff96ffdd798",
   "metadata": {},
   "outputs": [],
   "source": [
    "If the target variable is not there,such kind of machine learning is called Unsupervised Machine Learning.\n",
    "\n",
    "    1. KMeans Clustering\n",
    "    2. Hierchical Clustering\n",
    "    3. Principal Component Analysis (PCA)\n",
    "   "
   ]
  },
  {
   "cell_type": "markdown",
   "id": "8f81dd98-dc9f-4d41-af61-fd39b393fa3c",
   "metadata": {},
   "source": [
    "## Semi-supervised Machine learning"
   ]
  },
  {
   "cell_type": "code",
   "execution_count": null,
   "id": "c3c36efb-7ea1-481a-9ce1-fff0d6674940",
   "metadata": {},
   "outputs": [],
   "source": [
    "It is combination of Supervised Machine Learning AndUnsupervised Machine learning \n",
    "that can deal with label and unlabel rows and columns is known as Semi-supervised machine learning."
   ]
  },
  {
   "cell_type": "markdown",
   "id": "c97d4e56-227c-4c27-8e95-0218e72a9ce9",
   "metadata": {},
   "source": [
    "## Reinforcement Machine Learning"
   ]
  },
  {
   "cell_type": "code",
   "execution_count": null,
   "id": "6e2a2173-0d51-479a-989b-74921763a3a9",
   "metadata": {},
   "outputs": [],
   "source": [
    "Reward Based Sysetem\n",
    " 1. Self Driving Car\n",
    " 2. Humenoids\n",
    " 3. Simulations"
   ]
  },
  {
   "cell_type": "markdown",
   "id": "2e81c451-2bd9-4f59-a7c1-0f67b28a08ec",
   "metadata": {},
   "source": [
    " ## Steps in Data Science Project "
   ]
  },
  {
   "cell_type": "code",
   "execution_count": null,
   "id": "6a043200-d978-4118-89dd-cf865e71c4b4",
   "metadata": {},
   "outputs": [],
   "source": [
    "1. Problem Statement\n",
    "2. Data Gathering(Database:- SQL, DB, NO-SQl, Web Scrapping)\n",
    "3. Data cleaning\n",
    "4. Exploratory Data Analysis (EDA) (Numpy,Pandas,Matplotlib,Seaborn)\n",
    "5. Feature Engineering:\n",
    "    Standarlaziation\n",
    "    Normalization\n",
    "    Binning\n",
    "    One Hot Encoding\n",
    "    Label Encoding\n",
    "    Column Transformation (Log,Square Root,Cube Root)\n",
    "6. Model Training:-------------------|\n",
    "  1.Regresssion Task                 |\n",
    "  2.Classification Task              |\n",
    "  3.Clustering Task                  |\n",
    "                                     |        \n",
    "7.Model Evalutaion:                  |\n",
    "   Regression:-                      |\n",
    "     1.MSE (Mean Square Error)       |                \n",
    "     2.RMSE(Root Mean Square Error)  |\n",
    "     3.MAE (Mean Absulute Error)     |\n",
    "     4.R-Suared Value(R2 Score)      |\n",
    "                                     |\n",
    "   Classification:                   |\n",
    "    1.Confusion Matrix               | \n",
    "    2.Classification Report          |\n",
    "    3.AUC-ROC- Curve                 |\n",
    "                                     |\n",
    "8.Feature Selection:-----------------|\n",
    "   1.Filter Method\n",
    "   2.Wrapper Method\n",
    "   3.Embedded\n",
    "9.API Development:\n",
    "   1.Flask---To write API\n",
    "   2.Django\n",
    "   3.FastAPI\n",
    "   4.GRPC\n",
    "10.Deployment:\n",
    "  1.AWS\n",
    "  2.GCP\n",
    "  3.Azure\n",
    "  "
   ]
  },
  {
   "cell_type": "code",
   "execution_count": null,
   "id": "c8e12314-7429-46f0-a5c5-6e7dd73b9b01",
   "metadata": {},
   "outputs": [],
   "source": []
  },
  {
   "cell_type": "code",
   "execution_count": null,
   "id": "b3a4ddec-7c93-4b0e-9e69-de85a37dee7d",
   "metadata": {},
   "outputs": [],
   "source": []
  }
 ],
 "metadata": {
  "kernelspec": {
   "display_name": "Python 3 (ipykernel)",
   "language": "python",
   "name": "python3"
  },
  "language_info": {
   "codemirror_mode": {
    "name": "ipython",
    "version": 3
   },
   "file_extension": ".py",
   "mimetype": "text/x-python",
   "name": "python",
   "nbconvert_exporter": "python",
   "pygments_lexer": "ipython3",
   "version": "3.11.7"
  }
 },
 "nbformat": 4,
 "nbformat_minor": 5
}
